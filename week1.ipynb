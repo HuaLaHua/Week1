{
 "cells": [
  {
   "cell_type": "code",
   "execution_count": 38,
   "metadata": {},
   "outputs": [],
   "source": [
    "#exercise1\n",
    "fruits = ['orange','apple','pear','pinapple','mandarin']"
   ]
  },
  {
   "cell_type": "code",
   "execution_count": 39,
   "metadata": {},
   "outputs": [
    {
     "name": "stdout",
     "output_type": "stream",
     "text": [
      "I found it!\n"
     ]
    }
   ],
   "source": [
    "#exercise2\n",
    "for i in fruits:\n",
    " if i ==\"apple\":\n",
    "    print(\"I found it!\")\n",
    "    break"
   ]
  },
  {
   "cell_type": "code",
   "execution_count": 40,
   "metadata": {},
   "outputs": [
    {
     "name": "stdout",
     "output_type": "stream",
     "text": [
      "['orange', 'apple', 'pear', 'pinapple', 'mandarin', 'bannana', 'kiwi']\n"
     ]
    }
   ],
   "source": [
    "#exercise3\n",
    "fruits.append('bannana')\n",
    "fruits.append('kiwi')\n",
    "print(fruits)"
   ]
  },
  {
   "cell_type": "code",
   "execution_count": 3,
   "metadata": {},
   "outputs": [
    {
     "name": "stdout",
     "output_type": "stream",
     "text": [
      "orange has 6 letters\n",
      "apple has 5 letters\n",
      "pear has 4 letters\n",
      "pinapple has 8 letters\n",
      "mandarin has 8 letters\n"
     ]
    }
   ],
   "source": [
    "#exercise4\n",
    "fruits = ['orange','apple','pear','pinapple','mandarin']\n",
    "fruits_letters = []\n",
    "for i in range(len(fruits)):\n",
    "    fruits_letters.append(len(fruits[i]))\n",
    "    print(str(fruits[i])+' has '+str(fruits_letters[i])+' letters')"
   ]
  },
  {
   "cell_type": "code",
   "execution_count": 1,
   "metadata": {},
   "outputs": [],
   "source": [
    "#exercise5\n",
    "def half_squared(number):\n",
    "    output=[]\n",
    "    for i in number:\n",
    "        i = (i*i)/2\n",
    "        output.append(i)\n",
    "    return output"
   ]
  },
  {
   "cell_type": "code",
   "execution_count": 10,
   "metadata": {},
   "outputs": [
    {
     "data": {
      "text/plain": [
       "[4.5, 4.5]"
      ]
     },
     "execution_count": 10,
     "metadata": {},
     "output_type": "execute_result"
    }
   ],
   "source": [
    "half_squared([3,3]) "
   ]
  },
  {
   "cell_type": "code",
   "execution_count": 31,
   "metadata": {
    "scrolled": true
   },
   "outputs": [
    {
     "name": "stdout",
     "output_type": "stream",
     "text": [
      "input the score: 98\n",
      "A\n"
     ]
    }
   ],
   "source": [
    "#exercise6\n",
    "a = int(input(\"input the score: \"))\n",
    "if(a>=90):\n",
    "    print('A')\n",
    "elif(60<=a<=89):\n",
    "    print('B')\n",
    "else:\n",
    "    print('C')"
   ]
  },
  {
   "cell_type": "code",
   "execution_count": 17,
   "metadata": {},
   "outputs": [],
   "source": [
    "#exercise7\n",
    "def revSort(a,b,c):\n",
    "    d=max(a,b,c)\n",
    "    f=min(a,b,c)\n",
    "    e=a+b+c-d-f\n",
    "    return d,e,f"
   ]
  },
  {
   "cell_type": "code",
   "execution_count": 18,
   "metadata": {},
   "outputs": [
    {
     "data": {
      "text/plain": [
       "(32, 12, 4)"
      ]
     },
     "execution_count": 18,
     "metadata": {},
     "output_type": "execute_result"
    }
   ],
   "source": [
    "revSort(12,4,32)"
   ]
  },
  {
   "cell_type": "code",
   "execution_count": 19,
   "metadata": {},
   "outputs": [
    {
     "name": "stdout",
     "output_type": "stream",
     "text": [
      "[1, 2, 3, 4, 5, 6]\n"
     ]
    }
   ],
   "source": [
    "#exercise8\n",
    "list1 = [1,2,3]\n",
    "list2 = [4,5,6]\n",
    "arrs = [list1,list2]\n",
    "array=list1+list2\n",
    "print(array)"
   ]
  },
  {
   "cell_type": "code",
   "execution_count": 3,
   "metadata": {},
   "outputs": [
    {
     "name": "stdout",
     "output_type": "stream",
     "text": [
      "1\n",
      "8\n",
      "17\n",
      "18\n",
      "26\n",
      "27\n"
     ]
    }
   ],
   "source": [
    "#exercise9\n",
    "#refer from https://blog.csdn.net/weixin_39798772/article/details/77386729\n",
    "num=range(1,100)\n",
    "count=1\n",
    "\n",
    "def f(n):\n",
    "    return n**3\n",
    "for i in map(f,num):\n",
    "    temp=0\n",
    "    for j in range(0,len(str(i))):\n",
    "        temp=temp+int(str(i)[j])\n",
    "    if temp==count:\n",
    "        print(count)\n",
    "    count=count+1"
   ]
  },
  {
   "cell_type": "code",
   "execution_count": 27,
   "metadata": {},
   "outputs": [
    {
     "name": "stdout",
     "output_type": "stream",
     "text": [
      "(10,6)\n",
      "(6,10)\n"
     ]
    }
   ],
   "source": [
    "#exercise10\n",
    "import random\n",
    "x = random.randint(1,10)\n",
    "y = random.randint(1,10)\n",
    "print(\"(\"+str(x)+\",\"+str(y)+\")\")\n",
    "print(\"(\"+str(y)+\",\"+str(x)+\")\")"
   ]
  },
  {
   "cell_type": "code",
   "execution_count": 28,
   "metadata": {},
   "outputs": [
    {
     "name": "stdout",
     "output_type": "stream",
     "text": [
      "   *   \n",
      "  ***  \n",
      " ***** \n",
      "*******\n",
      " ***** \n",
      "  ***  \n",
      "   *   \n"
     ]
    }
   ],
   "source": [
    "#exercise11\n",
    "#refer from https://www.cnblogs.com/iderek/p/5969092.html\n",
    "s='*'\n",
    "for i in range(1, 8, 2):\n",
    "    print((s*i).center(7))\n",
    "for i in reversed(range(1, 6, 2)):\n",
    "    print((s*i).center(7))"
   ]
  },
  {
   "cell_type": "code",
   "execution_count": 2,
   "metadata": {},
   "outputs": [
    {
     "name": "stdout",
     "output_type": "stream",
     "text": [
      "123456\n",
      "234561\n",
      "345612\n",
      "456123\n",
      "561234\n",
      "612345\n"
     ]
    }
   ],
   "source": [
    "#exercise12\n",
    "for i in range(1,7):\n",
    "    for j in range(i,7):\n",
    "        print(j,end=\"\")\n",
    "    for k in range(1,i):\n",
    "        print(k,end=\"\")\n",
    "    print()"
   ]
  },
  {
   "cell_type": "code",
   "execution_count": 30,
   "metadata": {},
   "outputs": [
    {
     "name": "stdout",
     "output_type": "stream",
     "text": [
      "['Charles', 'Martina', 'Michael']\n"
     ]
    }
   ],
   "source": [
    "#exercise13\n",
    "players = ['charles','martina','michael','florence','eli']\n",
    "def normalize(name):\n",
    "    return name.capitalize()\n",
    "L=list(map(normalize,players[:3]))\n",
    "print(L)"
   ]
  },
  {
   "cell_type": "code",
   "execution_count": null,
   "metadata": {},
   "outputs": [],
   "source": []
  }
 ],
 "metadata": {
  "kernelspec": {
   "display_name": "Python 3",
   "language": "python",
   "name": "python3"
  },
  "language_info": {
   "codemirror_mode": {
    "name": "ipython",
    "version": 3
   },
   "file_extension": ".py",
   "mimetype": "text/x-python",
   "name": "python",
   "nbconvert_exporter": "python",
   "pygments_lexer": "ipython3",
   "version": "3.6.5"
  }
 },
 "nbformat": 4,
 "nbformat_minor": 2
}
